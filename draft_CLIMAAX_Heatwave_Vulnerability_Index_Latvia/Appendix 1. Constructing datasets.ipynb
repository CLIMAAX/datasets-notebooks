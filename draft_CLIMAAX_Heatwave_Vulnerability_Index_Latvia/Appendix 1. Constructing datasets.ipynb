{
 "cells": [
  {
   "cell_type": "markdown",
   "id": "fe28a728-aad9-4448-969f-903ffceeb6b8",
   "metadata": {},
   "source": [
    "# In progress"
   ]
  }
 ],
 "metadata": {
  "kernelspec": {
   "display_name": "Python 3 (ipykernel)",
   "language": "python",
   "name": "python3"
  },
  "language_info": {
   "codemirror_mode": {
    "name": "ipython",
    "version": 3
   },
   "file_extension": ".py",
   "mimetype": "text/x-python",
   "name": "python",
   "nbconvert_exporter": "python",
   "pygments_lexer": "ipython3",
   "version": "3.9.19"
  }
 },
 "nbformat": 4,
 "nbformat_minor": 5
}
