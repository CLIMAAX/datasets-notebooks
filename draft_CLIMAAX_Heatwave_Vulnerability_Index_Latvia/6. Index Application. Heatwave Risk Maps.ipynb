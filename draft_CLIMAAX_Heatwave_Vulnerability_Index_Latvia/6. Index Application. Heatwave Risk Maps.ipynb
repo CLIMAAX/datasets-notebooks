{
 "cells": [
  {
   "cell_type": "markdown",
   "id": "a5138e09-f067-4ccb-b83a-1b45f2b8de8f",
   "metadata": {},
   "source": [
    "# IN PROGRESS"
   ]
  },
  {
   "cell_type": "code",
   "execution_count": null,
   "id": "80fee5bc-e5f7-49c4-b905-e6a109092f7d",
   "metadata": {},
   "outputs": [],
   "source": []
  }
 ],
 "metadata": {
  "kernelspec": {
   "display_name": "Python 3 (ipykernel)",
   "language": "python",
   "name": "python3"
  },
  "language_info": {
   "codemirror_mode": {
    "name": "ipython",
    "version": 3
   },
   "file_extension": ".py",
   "mimetype": "text/x-python",
   "name": "python",
   "nbconvert_exporter": "python",
   "pygments_lexer": "ipython3",
   "version": "3.9.19"
  }
 },
 "nbformat": 4,
 "nbformat_minor": 5
}
