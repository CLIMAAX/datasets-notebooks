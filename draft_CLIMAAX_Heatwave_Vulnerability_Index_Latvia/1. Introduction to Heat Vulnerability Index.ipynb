{
 "cells": [
  {
   "cell_type": "markdown",
   "id": "412016fc-5a81-4919-9dc5-061f11f8ff8a",
   "metadata": {},
   "source": [
    "# 1. Introduction to Heat Vulnerbaility Index"
   ]
  },
  {
   "attachments": {},
   "cell_type": "markdown",
   "id": "c960e78f-e25c-4314-a191-b59e3f0b6fec",
   "metadata": {},
   "source": [
    "In the heatwave risk literature the social vulnerability index is commonly referred to as the **Heat Vulnerability Index (HVI)**, highlighting its specific application to assessing risks associated with heatwaves. There are two of the most widely used methods of the HVI construction - the **principal component analysis (PCA)** and **normalized variable equal weight aggregation (additive approach)** (Bao t. al., 2015; Niu et. al., 2021).\n",
    "\n",
    "Both index variations are commonly used for risk mapping with a goal to identify risk prone areas for further suggestions on the prevention and adaptation measures(Bao t. al., 2015; Niu et. al., 2021). **This index calculation guide offers to apply each method to a case study - heatwave socio-economic vulnerability dynamics in Latvia -  to compare their applicability to climate risk assessment in both academic and non academic  fields**.\n",
    "\n",
    "PCA is often conducted with reference to the predominantly used in risk studies Social Vulnerability Index (SoVI) to environmental hazards introduced by Cutter, Boruff, and Shirley (2003). When adapting this method for analyzing heatwave risks, researchers select variables specifically related to heatwave scenarios and apply PCA to identify a new reduced set of variables representing underlying patterns in the data, that later are used for the index construction (Bao t. al., 2015; Niu et. al., 2021).\n",
    "\n",
    "The more straithgforward additive approach is used less commonly than PCA, but is still valued by researchers for its simplicity in calculation and clarity in interpreting of the results (Bao t. al., 2015). Like for a PCA based index, vulnerabiltiy variables are selected based on their relation to heatwave risks (Bao t. al., 2015; Niu et. al., 2021).\n",
    "\n",
    "Conceptually, quantification of both indexes in this guide is based on Cutter, Boruff and Shirley (2003) adaptation of the **Hazards-of-Place Model of Vulnerability** (Figure 1).\n",
    "\n",
    "![Title](figures/figure%201.png)\n",
    "\n",
    "**Figure 1.** *The Hazards-of-Place Model of Vulnerability (Cutter, Boruff & Shirley, 2003; modified from Cutter, 1996).*\n",
    "\n",
    "In this conceptual framework *risk* is defined as an objective evaluation of a hazard event's likelihood. It interacts with *mitigation* efforts to reduce risks or their impacts. Risk and mitigation interaction results in *hazard potential*. This potential is either moderated or intensified by a *geographic context* and *social fabric*. Geogrpahic context is defined as a location and proximity by the authors. The ***social fabric*** involves the community's experience with hazards and its ability to react, manage, recover, and adapt to a hazard. Social fabric is influenced by demographic, economic, and housing characteristics. The overall *vulnerability of a place* is determined by the interaction of *social and biophysical vulnerabilities*.\n",
    "\n",
    "This vulnerability index analysis specifically focuses on the social vulnerability and social fabric aspect of the model. The aim is to assess vulnerability dynamics in Latvia and consequent vulnerability index performance. de Rutier and van Loon (2022) identify key types of vulnerability dynamic, one of which is underlying dynamics. This type includes factors such as conflict, migration, and economic recession, influenced by changes in regional population, economic characteristics, immigration, displacement, poverty, and political instability. This case study seeks to analyze underlying temporal and spatial dynamics of social vulnerability to heatwaves in Latvia, and show its potential to application of the same analysis in other EU states."
   ]
  },
  {
   "cell_type": "markdown",
   "id": "bbef370f-0f1f-4ce0-8db8-f8154d208d27",
   "metadata": {},
   "source": [
    "# Contributors"
   ]
  },
  {
   "cell_type": "markdown",
   "id": "27ef3988-a2d0-43a2-b7a1-9f11cbd0d93c",
   "metadata": {},
   "source": [
    "Institute for Environmental Studies (IVM) (the Netherlands).\n",
    "\n",
    "Authors of the workflow: Alona Bogdanova\n",
    "\n",
    "References:\n",
    "\n",
    "Bao, J., Li, X., & Yu, C. (2015). The Construction and Validation of the Heat Vulnerability Index, Review. *International Journal of Environmental Research and Public Health*, 12, 7220-7234. https://doi.org/10.3390/ijerph120707220\n",
    "\n",
    "Cutter, S. L. (1996). Vulnerability to Environmental Hazards. *Progress in Human Geography,* 20(4).\n",
    "\n",
    "Cutter, S. L., Boruff, B. J. & Shirley W. L. (2003). Social Vulnerability to Environmental Hazards. *Social Science Quarterly,* 84(2).\n",
    "\n",
    "Cutter, S. L. & Finch, C. (2008). Temporal and Spatial Changes in Social Vulnerability to Natural Hazards. *Proceedings of the National Academy of Sciences of the United States of America,* 105 (7).\n",
    "\n",
    "de Ruiter, M. & van Loon, A. (2022). The challenges of dynamic vulnerability and how to assess it. *iScience 25*. https://doi.org/10.1016/j.isci.2022.104720\n",
    "    \n",
    "Niu, Y. et . al. (2021). A Systematic Review of the Development and Validation of the Heat Vulnerability Index: Major Factors, Methods, and Spatial Units. *Current Climate Change Reports*, 7, 87-97. https://doi.org/10.1007/s40641-021-00173-3\n",
    "\n"
   ]
  }
 ],
 "metadata": {
  "kernelspec": {
   "display_name": "Python 3 (ipykernel)",
   "language": "python",
   "name": "python3"
  },
  "language_info": {
   "codemirror_mode": {
    "name": "ipython",
    "version": 3
   },
   "file_extension": ".py",
   "mimetype": "text/x-python",
   "name": "python",
   "nbconvert_exporter": "python",
   "pygments_lexer": "ipython3",
   "version": "3.9.19"
  }
 },
 "nbformat": 4,
 "nbformat_minor": 5
}
