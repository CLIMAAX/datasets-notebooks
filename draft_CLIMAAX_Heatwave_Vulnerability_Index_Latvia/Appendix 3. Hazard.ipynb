{
 "cells": [
  {
   "cell_type": "markdown",
   "id": "57bd1a32-2e43-4362-9780-36175036f135",
   "metadata": {},
   "source": [
    "# Appendix 3. Hazard"
   ]
  },
  {
   "cell_type": "markdown",
   "id": "a89100d1-b4ce-4b0b-b7b6-d0cf53e54bd6",
   "metadata": {},
   "source": [
    "In progress"
   ]
  },
  {
   "cell_type": "code",
   "execution_count": null,
   "id": "7b807a91-4529-4061-9849-18d8415c1b8d",
   "metadata": {},
   "outputs": [],
   "source": []
  }
 ],
 "metadata": {
  "kernelspec": {
   "display_name": "Python 3 (ipykernel)",
   "language": "python",
   "name": "python3"
  },
  "language_info": {
   "codemirror_mode": {
    "name": "ipython",
    "version": 3
   },
   "file_extension": ".py",
   "mimetype": "text/x-python",
   "name": "python",
   "nbconvert_exporter": "python",
   "pygments_lexer": "ipython3",
   "version": "3.9.19"
  }
 },
 "nbformat": 4,
 "nbformat_minor": 5
}
